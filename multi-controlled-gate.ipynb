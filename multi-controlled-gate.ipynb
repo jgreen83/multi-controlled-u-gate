{
 "cells": [
  {
   "cell_type": "code",
   "execution_count": 91,
   "id": "93676950",
   "metadata": {},
   "outputs": [],
   "source": [
    "from qiskit.circuit import QuantumCircuit, QuantumRegister, AncillaRegister\n",
    "from qiskit.quantum_info import Statevector, Operator\n",
    "from qiskit.circuit.library import UnitaryGate\n",
    "from qiskit.synthesis import OneQubitEulerDecomposer\n",
    "\n",
    "import matplotlib.pyplot as plt\n",
    "\n",
    "import numpy as np"
   ]
  },
  {
   "cell_type": "markdown",
   "id": "e2f4dc0a",
   "metadata": {},
   "source": [
    "# Single-qubit controlled-U gate construction"
   ]
  },
  {
   "cell_type": "markdown",
   "id": "07a2e6d5",
   "metadata": {},
   "source": [
    "My approach is based off of Barenco et al, \"Elementary gates for quantum computation\", 1995 (https://arxiv.org/pdf/quant-ph/9503016), specifically Lemmas 4.3 and 5.1. The lemmas (pictured below for convenience) give a useful way to decompose U into arbitrary 1-qubit gates such that a controlled-U gate can be formed from these gates composed with CX gates. \n",
    "\n",
    "<img src=\"./images/lemma-43.png\" alt=\"isolated\" width=\"800\"/>\n",
    "<img src=\"./images/lemma-43-proof.png\" alt=\"isolated\" width=\"800\"/>\n",
    "<img src=\"./images/lemma-51.png\" alt=\"isolated\" width=\"800\"/>"
   ]
  },
  {
   "cell_type": "code",
   "execution_count": null,
   "id": "90a81142",
   "metadata": {},
   "outputs": [
    {
     "name": "stdout",
     "output_type": "stream",
     "text": [
      "True\n"
     ]
    },
    {
     "data": {
      "image/png": "[encoded data removed]",
      "text/plain": [
       "<Figure size 769.529x200.667 with 1 Axes>"
      ]
     },
     "execution_count": 93,
     "metadata": {},
     "output_type": "execute_result"
    }
   ],
   "source": [
    "def controlled_U_gate(U):\n",
    "    \n",
    "    #decompose U into a z-y-z angle decomposition\n",
    "    #U = e^ix * Rz(a)Ry(b)Rz(c)\n",
    "    basis = 'ZYZ'\n",
    "    angles = OneQubitEulerDecomposer(basis).angles_and_phase(U)\n",
    "\n",
    "    Rz1 = Operator([[np.exp(-1j*angles[0]/2), 0], [0, np.exp(1j*angles[0]/2)]])\n",
    "    Ry = Operator([[np.cos(angles[1]/2), -np.sin(angles[1]/2)],\n",
    "                   [np.sin(angles[1]/2), np.cos(angles[1]/2)]])\n",
    "    Rz2 = Operator([[np.exp(-1j*angles[2]/2), 0], [0, np.exp(1j*angles[2]/2)]])\n",
    "\n",
    "    #U should equal np.exp(1j*angles[3]) * Rz1 @ Ry @ Rz2\n",
    "    \n",
    "    #define A, B, C according to theory described above\n",
    "    A = Operator(Rz1 @ Operator([[np.cos(angles[1]/4), -np.sin(angles[1]/4)],\n",
    "                   [np.sin(angles[1]/4), np.cos(angles[1]/4)]]))\n",
    "    B = Operator(Operator([[np.cos(angles[1]/4), np.sin(angles[1]/4)],\n",
    "                   [-np.sin(angles[1]/4), np.cos(angles[1]/4)]]) @ Operator([[np.exp(-1j*(-angles[2]/2 - angles[0]/2)/2), 0], [0, np.exp(1j*(-angles[2]/2 - angles[0]/2)/2)]]))\n",
    "    C = Operator([[np.exp(-1j*(angles[2]/2 - angles[0]/2)/2), 0], [0, np.exp(1j*(angles[2]/2 - angles[0]/2)/2)]])\n",
    "\n",
    "    X = Operator([[0, 1], [1, 0]])\n",
    "\n",
    "    #check that A, B, C satisfy the conditions of the lemmas\n",
    "    AXBXC = A @ X @ B @ X @ C\n",
    "    eAXBXC = np.exp(1j*angles[3]) * AXBXC\n",
    "\n",
    "    print(np.allclose(eAXBXC, U) and np.allclose(A @ B @ C, np.eye(2)))  #should be true if A, B, C, and phase are correct\n",
    "\n",
    "\n",
    "    #now define quantum circuit\n",
    "    quantum_registerXs = QuantumRegister(size=1, name=\"x\")\n",
    "    quantum_registerY = QuantumRegister(size=1, name=\"y\")\n",
    "\n",
    "    cUckt = QuantumCircuit(quantum_registerXs,quantum_registerY, name=\"controlled-U\")\n",
    "\n",
    "    cUckt.append(UnitaryGate(C), [quantum_registerY[0]]) #gates are applied in reverse order to match multiplication order\n",
    "    cUckt.cx(quantum_registerXs[0], quantum_registerY[0])\n",
    "    cUckt.append(UnitaryGate(B), [quantum_registerY[0]])\n",
    "    cUckt.cx(quantum_registerXs[0], quantum_registerY[0])\n",
    "    cUckt.append(UnitaryGate(A), [quantum_registerY[0]])\n",
    "    cUckt.p(angles[3], quantum_registerXs[0]) #controlled global phase equiv to single phase on control qubit\n",
    "    \n",
    "    return cUckt\n",
    "\n",
    "cUckt = controlled_U_gate(Operator([[0, 1], [1, 0]]))\n",
    "cUckt.draw(output=\"mpl\", style=\"bw\")"
   ]
  },
  {
   "cell_type": "markdown",
   "id": "7cd81449",
   "metadata": {},
   "source": [
    "## Method Verification"
   ]
  },
  {
   "cell_type": "code",
   "execution_count": 87,
   "id": "5b081449",
   "metadata": {},
   "outputs": [
    {
     "data": {
      "image/png": "[encoded data removed]",
      "text/plain": [
       "<Figure size 267.862x200.667 with 1 Axes>"
      ]
     },
     "execution_count": 87,
     "metadata": {},
     "output_type": "execute_result"
    }
   ],
   "source": [
    "#doing the same thing using qiskit's built-in controlled function for comparison\n",
    "def controlled_U_gate2(U):\n",
    "    quantum_registerXs = QuantumRegister(size=1, name=\"x\")\n",
    "    quantum_registerY = QuantumRegister(size=1, name=\"y\")\n",
    "    cUckt = QuantumCircuit(quantum_registerXs,quantum_registerY, name=\"controlled-U\")\n",
    "    U = UnitaryGate(U).control(1)\n",
    "    cUckt.append(U, [quantum_registerXs[0], quantum_registerY[0]])\n",
    "    return cUckt\n",
    "\n",
    "cUckt2 = controlled_U_gate2(Operator([[0, 1], [1, 0]]))\n",
    "cUckt2.draw(output=\"mpl\", style=\"bw\")"
   ]
  },
  {
   "cell_type": "code",
   "execution_count": 88,
   "id": "624d4294",
   "metadata": {},
   "outputs": [
    {
     "name": "stdout",
     "output_type": "stream",
     "text": [
      "True\n",
      "True\n"
     ]
    }
   ],
   "source": [
    "#checking equivalence of the two circuits\n",
    "Op1 = Operator(cUckt)\n",
    "Op2 = Operator(cUckt2)\n",
    "\n",
    "print(Op1.equiv(Op2))\n",
    "print(Statevector.from_instruction(cUckt).equiv(Statevector.from_instruction(cUckt2)))"
   ]
  },
  {
   "cell_type": "markdown",
   "id": "46d04d09",
   "metadata": {},
   "source": [
    "# Expanding to arbitrary n"
   ]
  },
  {
   "cell_type": "markdown",
   "id": "2e484432",
   "metadata": {},
   "source": [
    "## Method verification"
   ]
  },
  {
   "cell_type": "code",
   "execution_count": 89,
   "id": "11bfb1c8",
   "metadata": {},
   "outputs": [],
   "source": [
    "#trying to implement multi-controlled-U gate\n",
    "def multi_controlled_U_gate(U, n):\n",
    "    quantum_registerXs = QuantumRegister(size=n, name=\"x\")\n",
    "    quantum_registerY = QuantumRegister(size=1, name=\"y\")\n",
    "    #ancilla_register = AncillaRegister(size=n, name=\"y\")\n",
    "\n",
    "    mcUckt = QuantumCircuit(quantum_registerXs, quantum_registerY, name=\"multi-controlled-U\")\n",
    "\n",
    "    U = UnitaryGate(U).control(n)\n",
    "    mcUckt.append(U, [quantum_registerXs[i] for i in range(n)] + [quantum_registerY[0]])\n",
    "    \n",
    "    return mcUckt"
   ]
  },
  {
   "cell_type": "code",
   "execution_count": 90,
   "id": "1edcd2b4",
   "metadata": {},
   "outputs": [
    {
     "data": {
      "image/png": "[encoded data removed]",
      "text/plain": [
       "<Figure size 286.294x367.889 with 1 Axes>"
      ]
     },
     "execution_count": 90,
     "metadata": {},
     "output_type": "execute_result"
    }
   ],
   "source": [
    "mcUckt = multi_controlled_U_gate(Operator([[1, 0], [0, 1]]),3)\n",
    "mcUckt.draw(output=\"mpl\", style=\"bw\")"
   ]
  }
 ],
 "metadata": {
  "kernelspec": {
   "display_name": ".venv (3.10.1)",
   "language": "python",
   "name": "python3"
  },
  "language_info": {
   "codemirror_mode": {
    "name": "ipython",
    "version": 3
   },
   "file_extension": ".py",
   "mimetype": "text/x-python",
   "name": "python",
   "nbconvert_exporter": "python",
   "pygments_lexer": "ipython3",
   "version": "3.10.1"
  }
 },
 "nbformat": 4,
 "nbformat_minor": 5
}
