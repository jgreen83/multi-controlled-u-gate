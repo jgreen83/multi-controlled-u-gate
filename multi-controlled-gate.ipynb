{
 "cells": [
  {
   "cell_type": "code",
   "execution_count": 14,
   "id": "93676950",
   "metadata": {},
   "outputs": [],
   "source": [
    "from qiskit.circuit import QuantumCircuit, QuantumRegister, AncillaRegister\n",
    "from qiskit.quantum_info import Statevector, Operator\n",
    "from qiskit.circuit.library import UnitaryGate\n",
    "\n",
    "import matplotlib.pyplot as plt\n",
    "\n",
    "import numpy as np"
   ]
  },
  {
   "cell_type": "code",
   "execution_count": 22,
   "id": "90a81142",
   "metadata": {},
   "outputs": [
    {
     "data": {
      "image/png": "[encoded data removed]",
      "text/plain": [
       "<Figure size 267.862x200.667 with 1 Axes>"
      ]
     },
     "execution_count": 22,
     "metadata": {},
     "output_type": "execute_result"
    }
   ],
   "source": [
    "#implementing a single-qubit controlled-U gate\n",
    "def controlled_U_gate(U):\n",
    "    quantum_registerXs = QuantumRegister(size=1, name=\"x\")\n",
    "    quantum_registerY = QuantumRegister(size=1, name=\"y\")\n",
    "    #ancilla_register = AncillaRegister(size=1, name=\"y\")\n",
    "\n",
    "    cUckt = QuantumCircuit(quantum_registerXs,quantum_registerY, name=\"controlled-U\")\n",
    "\n",
    "    U = UnitaryGate(U).control(1)\n",
    "    cUckt.append(U, [quantum_registerXs[0], quantum_registerY[0]])\n",
    "    \n",
    "    return cUckt\n",
    "\n",
    "cUckt = controlled_U_gate(Operator([[1, 0], [0, 1]]))\n",
    "cUckt.draw(output=\"mpl\", style=\"bw\")"
   ]
  },
  {
   "cell_type": "code",
   "execution_count": 23,
   "id": "11bfb1c8",
   "metadata": {},
   "outputs": [],
   "source": [
    "#trying to implement multi-controlled-U gate\n",
    "def multi_controlled_U_gate(U, n):\n",
    "    quantum_registerXs = QuantumRegister(size=n, name=\"x\")\n",
    "    quantum_registerY = QuantumRegister(size=1, name=\"y\")\n",
    "    #ancilla_register = AncillaRegister(size=n, name=\"y\")\n",
    "\n",
    "    mcUckt = QuantumCircuit(quantum_registerXs, quantum_registerY, name=\"multi-controlled-U\")\n",
    "\n",
    "    U = UnitaryGate(U).control(n)\n",
    "    mcUckt.append(U, [quantum_registerXs[i] for i in range(n)] + [quantum_registerY[0]])\n",
    "    \n",
    "    return mcUckt"
   ]
  },
  {
   "cell_type": "code",
   "execution_count": 25,
   "id": "1edcd2b4",
   "metadata": {},
   "outputs": [
    {
     "data": {
      "image/png": "[encoded data removed]",
      "text/plain": [
       "<Figure size 286.294x367.889 with 1 Axes>"
      ]
     },
     "execution_count": 25,
     "metadata": {},
     "output_type": "execute_result"
    }
   ],
   "source": [
    "mcUckt = multi_controlled_U_gate(Operator([[1, 0], [0, 1]]),3)\n",
    "mcUckt.draw(output=\"mpl\", style=\"bw\")"
   ]
  }
 ],
 "metadata": {
  "kernelspec": {
   "display_name": ".venv (3.10.1)",
   "language": "python",
   "name": "python3"
  },
  "language_info": {
   "codemirror_mode": {
    "name": "ipython",
    "version": 3
   },
   "file_extension": ".py",
   "mimetype": "text/x-python",
   "name": "python",
   "nbconvert_exporter": "python",
   "pygments_lexer": "ipython3",
   "version": "3.10.1"
  }
 },
 "nbformat": 4,
 "nbformat_minor": 5
}
